{
 "cells": [
  {
   "cell_type": "code",
   "execution_count": 23,
   "id": "f63223f0",
   "metadata": {},
   "outputs": [],
   "source": [
    "from src.features.build_features import get_roast_classification_dataset\n",
    "from sklearn.model_selection import train_test_split, RandomizedSearchCV\n",
    "from keras.preprocessing.text import Tokenizer\n",
    "from sklearn.ensemble import RandomForestClassifier\n",
    "import numpy as np"
   ]
  },
  {
   "cell_type": "code",
   "execution_count": 2,
   "id": "c1336032",
   "metadata": {},
   "outputs": [],
   "source": [
    "X, y = get_roast_classification_dataset()"
   ]
  },
  {
   "cell_type": "code",
   "execution_count": 5,
   "id": "59c585aa",
   "metadata": {},
   "outputs": [],
   "source": [
    "# Split into test and train datasets\n",
    "X_train, X_test, y_train, y_test = train_test_split(X, y, test_size=0.2, random_state=23)"
   ]
  },
  {
   "cell_type": "code",
   "execution_count": 9,
   "id": "9f974c32",
   "metadata": {},
   "outputs": [],
   "source": [
    "# create tokenizer\n",
    "t = Tokenizer(lower=True, split=' ')\n",
    "# Fit tokenizer only on TRAINING data\n",
    "t.fit_on_texts(X_train)\n",
    "# convert x_train and x_test to TF-IDF vectors\n",
    "X_train = t.texts_to_matrix(X_train, mode='tfidf')\n",
    "X_test = t.texts_to_matrix(X_test, mode='tfidf')"
   ]
  },
  {
   "cell_type": "code",
   "execution_count": 16,
   "id": "1d897fa5",
   "metadata": {},
   "outputs": [
    {
     "data": {
      "text/plain": [
       "0.5316117542297417"
      ]
     },
     "execution_count": 16,
     "metadata": {},
     "output_type": "execute_result"
    }
   ],
   "source": [
    "# Fit model, and make predictions\n",
    "rnd_clf = RandomForestClassifier(n_estimators=500, max_depth=32, n_jobs=-1, oob_score=True, random_state=23)\n",
    "rnd_clf.fit(X_train, y_train)\n",
    "rnd_clf.oob_score_"
   ]
  },
  {
   "cell_type": "markdown",
   "id": "83f00bfd",
   "metadata": {},
   "source": [
    "## Random Hyperparameter Search"
   ]
  },
  {
   "cell_type": "code",
   "execution_count": 20,
   "id": "6195f9b1",
   "metadata": {},
   "outputs": [
    {
     "data": {
      "text/plain": [
       "RandomizedSearchCV(estimator=RandomForestClassifier(n_jobs=-1, oob_score=True,\n",
       "                                                    random_state=21),\n",
       "                   n_iter=30,\n",
       "                   param_distributions={'bootstrap': [True],\n",
       "                                        'max_depth': [10, 20, 30, 40, 50, 60,\n",
       "                                                      70, 80],\n",
       "                                        'max_features': [100, 200, 300, 400,\n",
       "                                                         500, 1000, 2000],\n",
       "                                        'min_samples_split': [2, 3, 5, 7, 9],\n",
       "                                        'n_estimators': [500, 750, 1000, 1250]},\n",
       "                   random_state=21, return_train_score=True)"
      ]
     },
     "execution_count": 20,
     "metadata": {},
     "output_type": "execute_result"
    }
   ],
   "source": [
    "rnd_clf = RandomForestClassifier(n_jobs=-1, oob_score=True, random_state=21)\n",
    "param_dist = {\"max_depth\": [10, 20, 30, 40, 50, 60, 70, 80],\n",
    "              \"n_estimators\": [500, 750, 1000, 1250],\n",
    "              \"max_features\": [100, 200, 300, 400, 500, 1000, 2000],\n",
    "              \"min_samples_split\": [2, 3, 5, 7, 9],\n",
    "              \"bootstrap\": [True]}\n",
    "n_iter_search = 30\n",
    "random_search = RandomizedSearchCV(rnd_clf, param_distributions=param_dist,\n",
    "                                   n_iter=n_iter_search, random_state=21,\n",
    "                                  return_train_score=True)\n",
    "random_search.fit(X_train, y_train)"
   ]
  },
  {
   "cell_type": "code",
   "execution_count": 24,
   "id": "4380823e",
   "metadata": {},
   "outputs": [
    {
     "name": "stdout",
     "output_type": "stream",
     "text": [
      "Model with rank: 1\n",
      "Mean validation score: 0.555 (std: 0.004)\n",
      "Parameters: {'n_estimators': 1000, 'min_samples_split': 5, 'max_features': 1000, 'max_depth': 70, 'bootstrap': True}\n",
      "\n",
      "Model with rank: 2\n",
      "Mean validation score: 0.554 (std: 0.011)\n",
      "Parameters: {'n_estimators': 500, 'min_samples_split': 9, 'max_features': 500, 'max_depth': 40, 'bootstrap': True}\n",
      "\n",
      "Model with rank: 3\n",
      "Mean validation score: 0.554 (std: 0.007)\n",
      "Parameters: {'n_estimators': 1000, 'min_samples_split': 2, 'max_features': 300, 'max_depth': 50, 'bootstrap': True}\n",
      "\n"
     ]
    }
   ],
   "source": [
    "# Utility function to report best scores\n",
    "def report(results, n_top=3):\n",
    "    for i in range(1, n_top + 1):\n",
    "        candidates = np.flatnonzero(results['rank_test_score'] == i)\n",
    "        for candidate in candidates:\n",
    "            print(\"Model with rank: {0}\".format(i))\n",
    "            print(\"Mean validation score: {0:.3f} (std: {1:.3f})\"\n",
    "                  .format(results['mean_test_score'][candidate],\n",
    "                          results['std_test_score'][candidate]))\n",
    "            print(\"Parameters: {0}\".format(results['params'][candidate]))\n",
    "            print(\"\")\n",
    "            \n",
    "report(random_search.cv_results_)"
   ]
  },
  {
   "cell_type": "markdown",
   "id": "f2c4e645",
   "metadata": {},
   "source": [
    "## Train Best Model and Test"
   ]
  },
  {
   "cell_type": "code",
   "execution_count": 25,
   "id": "70b2ce9e",
   "metadata": {},
   "outputs": [
    {
     "name": "stdout",
     "output_type": "stream",
     "text": [
      "Accuracy: 0.5325022261798753\n"
     ]
    }
   ],
   "source": [
    "# Final Model\n",
    "rnd_clf = RandomForestClassifier(n_estimators=500, max_depth=40, max_features=300, n_jobs=-1, oob_score=True, random_state=22)\n",
    "rnd_clf.fit(X_train, y_train)\n",
    "\n",
    "from sklearn.metrics import accuracy_score\n",
    "y_pred = rnd_clf.predict(X_test)\n",
    "print(\"Accuracy: \" + str(accuracy_score(y_test, y_pred)))"
   ]
  }
 ],
 "metadata": {
  "kernelspec": {
   "display_name": "Python 3",
   "language": "python",
   "name": "python3"
  },
  "language_info": {
   "codemirror_mode": {
    "name": "ipython",
    "version": 3
   },
   "file_extension": ".py",
   "mimetype": "text/x-python",
   "name": "python",
   "nbconvert_exporter": "python",
   "pygments_lexer": "ipython3",
   "version": "3.9.0"
  }
 },
 "nbformat": 4,
 "nbformat_minor": 5
}
